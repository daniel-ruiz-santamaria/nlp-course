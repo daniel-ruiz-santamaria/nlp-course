{
 "cells": [
  {
   "cell_type": "code",
   "execution_count": 2,
   "metadata": {},
   "outputs": [],
   "source": [
    "import speech_recognition as sr"
   ]
  },
  {
   "cell_type": "markdown",
   "metadata": {},
   "source": [
    "# Crear instancia para el reconocimiento"
   ]
  },
  {
   "cell_type": "code",
   "execution_count": 3,
   "metadata": {},
   "outputs": [],
   "source": [
    "r = sr.Recognizer()"
   ]
  },
  {
   "cell_type": "markdown",
   "metadata": {},
   "source": [
    "# Selecionar audio"
   ]
  },
  {
   "cell_type": "code",
   "execution_count": 4,
   "metadata": {},
   "outputs": [
    {
     "name": "stdout",
     "output_type": "stream",
     "text": [
      "\t0 - Microsoft Sound Mapper - Input\n",
      "\t1 - Micrófono (Realtek(R) Audio)\n",
      "\t2 - Microsoft Sound Mapper - Output\n",
      "\t3 - Realtek HD Audio 2nd output (Re\n",
      "\t4 - Realtek Digital Output (Realtek\n",
      "\t5 - Altavoces (Realtek(R) Audio)\n",
      "\t6 - C32F391 (NVIDIA High Definition\n",
      "\t7 - Controlador primario de captura de sonido\n",
      "\t8 - Micrófono (Realtek(R) Audio)\n",
      "\t9 - Controlador primario de sonido\n",
      "\t10 - Realtek HD Audio 2nd output (Realtek(R) Audio)\n",
      "\t11 - Realtek Digital Output (Realtek(R) Audio)\n",
      "\t12 - Altavoces (Realtek(R) Audio)\n",
      "\t13 - C32F391 (NVIDIA High Definition Audio)\n",
      "\t14 - Realtek Digital Output (Realtek(R) Audio)\n",
      "\t15 - Realtek HD Audio 2nd output (Realtek(R) Audio)\n",
      "\t16 - Altavoces (Realtek(R) Audio)\n",
      "\t17 - C32F391 (NVIDIA High Definition Audio)\n",
      "\t18 - Micrófono (Realtek(R) Audio)\n",
      "\t19 - Headphones (Realtek HD Audio 2nd output)\n",
      "\t20 - Micrófono (Realtek HD Audio Mic input)\n",
      "\t21 - Speakers (Realtek HD Audio output)\n",
      "\t22 - Mezcla estéreo (Realtek HD Audio Stereo input)\n",
      "\t23 - SPDIF Out (Realtek HDA SPDIF Out)\n",
      "\t24 - Output (NVIDIA High Definition Audio)\n",
      "\t25 - Line Out (SteelSeries_Sonar_VAD Chat Capture Wave)\n",
      "\t26 - SteelSeries Sonar - Microphone (SteelSeries_Sonar_VAD Chat Capture Wave)\n",
      "\t27 - Output (SteelSeries_Sonar_VAD Chat Wave Speaker)\n",
      "\t28 - Headphones (SteelSeries_Sonar_VAD Game Wave Speaker)\n",
      "\t29 - Auriculares con micrófono (@System32\\drivers\\bthhfenum.sys,#2;%1 Hands-Free AG Audio%0\n",
      ";(JBL TUNE660BTNC))\n",
      "\t30 - Auriculares con micrófono (@System32\\drivers\\bthhfenum.sys,#2;%1 Hands-Free AG Audio%0\n",
      ";(JBL TUNE660BTNC))\n",
      "\t31 - Speakers (Nahimic mirroring Wave Speaker)\n",
      "\t32 - Auriculares ()\n",
      "Selecione un microfono escribiendo el numero del indice, o pulse enter para seleccionar el microfono por defecto\n",
      "Usando micrófono por defecto\n",
      "\n",
      "Pulsa intro y comienza a grabar\n",
      "\n",
      "Fin de la grabación\n"
     ]
    }
   ],
   "source": [
    "source = 'microphone' # Para fichero 'file'\n",
    "if source == 'file':\n",
    "    audio_file = sr.AudioFile('..\\data\\nombre.wav') # Ruta hasta el fichero de audio\n",
    "    with audio_file as src:\n",
    "        r.adjust_for_ambient_noise(src) # Calibración para eliminar ruido de fondo\n",
    "        audio = r.record(src) # Si se quiere solo un porción hay que jugar con el offset y la duracion: r.record(src, offset=4, duration=3)\n",
    "else:\n",
    "    mic = sr.Microphone() # Objeto para usar el microfono\n",
    "    microphones = sr.Microphone.list_microphone_names()\n",
    "    for i,micro in enumerate(microphones):\n",
    "        print(f\"\\t{i} - {micro}\")\n",
    "    selected_micro = input(\"Selecione un microfono escribiendo el numero del indice, o pulse enter para seleccionar el microfono por defecto\")\n",
    "    if selected_micro is not None and selected_micro.isnumeric() and (int(selected_micro)>=0 and int(selected_micro)<len(microphones)):\n",
    "        mic = sr.Microphone(int(selected_micro))\n",
    "        print(f\"Cambiado a micrófono {microphones[int(selected_micro)]}\")\n",
    "    else:\n",
    "        print(\"Usando micrófono por defecto\")\n",
    "    \n",
    "    with mic as src:\n",
    "        # r.adjust_for_ambient_noise(src) # Calibración para eliminar ruido de fondo\n",
    "        input(\"\\nPulsa intro y comienza a grabar\")\n",
    "        audio = r.listen(src)\n",
    "        print(\"\\nFin de la grabación\")\n",
    "    "
   ]
  },
  {
   "cell_type": "markdown",
   "metadata": {},
   "source": [
    "# Reconocer el audio invocando al API de Google"
   ]
  },
  {
   "cell_type": "code",
   "execution_count": 5,
   "metadata": {},
   "outputs": [
    {
     "data": {
      "text/plain": [
       "'hola estamos grabando la voz para un experimento de test'"
      ]
     },
     "execution_count": 5,
     "metadata": {},
     "output_type": "execute_result"
    }
   ],
   "source": [
    "r.recognize_google(audio, language='es-ES') "
   ]
  },
  {
   "cell_type": "code",
   "execution_count": null,
   "metadata": {},
   "outputs": [],
   "source": []
  },
  {
   "cell_type": "code",
   "execution_count": null,
   "metadata": {},
   "outputs": [],
   "source": []
  }
 ],
 "metadata": {
  "kernelspec": {
   "display_name": "Python 3",
   "language": "python",
   "name": "python3"
  },
  "language_info": {
   "codemirror_mode": {
    "name": "ipython",
    "version": 3
   },
   "file_extension": ".py",
   "mimetype": "text/x-python",
   "name": "python",
   "nbconvert_exporter": "python",
   "pygments_lexer": "ipython3",
   "version": "3.8.3"
  }
 },
 "nbformat": 4,
 "nbformat_minor": 4
}
