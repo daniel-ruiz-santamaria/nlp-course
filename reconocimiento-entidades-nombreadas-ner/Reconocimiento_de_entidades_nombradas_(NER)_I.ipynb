{
  "nbformat": 4,
  "nbformat_minor": 0,
  "metadata": {
    "colab": {
      "name": "Reconocimiento de entidades nombradas (NER).ipynb",
      "provenance": [],
      "authorship_tag": "ABX9TyPtk+lYZbbeFoYiUAy0BWMi",
      "include_colab_link": true
    },
    "kernelspec": {
      "name": "python3",
      "display_name": "Python 3"
    },
    "language_info": {
      "name": "python"
    }
  },
  "cells": [
    {
      "cell_type": "markdown",
      "metadata": {
        "id": "view-in-github",
        "colab_type": "text"
      },
      "source": [
        "<a href=\"https://colab.research.google.com/github/daniel-ruiz-santamaria/nlp_introduction_course/blob/main/Reconocimiento_de_entidades_nombradas_(NER).ipynb\" target=\"_parent\"><img src=\"https://colab.research.google.com/assets/colab-badge.svg\" alt=\"Open In Colab\"/></a>"
      ]
    },
    {
      "cell_type": "code",
      "execution_count": null,
      "metadata": {
        "id": "dFMjQip3e_xE"
      },
      "outputs": [],
      "source": [
        ""
      ]
    }
  ]
}